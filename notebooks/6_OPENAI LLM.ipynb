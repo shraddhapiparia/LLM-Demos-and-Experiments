{
  "nbformat": 4,
  "nbformat_minor": 0,
  "metadata": {
    "colab": {
      "provenance": []
    },
    "kernelspec": {
      "name": "python3",
      "display_name": "Python 3"
    },
    "language_info": {
      "name": "python"
    }
  },
  "cells": [
    {
      "cell_type": "code",
      "source": [
        "# !pip install langchain_community\n",
        "# !pip install langchain_openai\n",
        "# !pip install llama-index-llms-langchain\n",
        "# !pip install python-dotenv"
      ],
      "metadata": {
        "id": "a7rLTE-btNkg"
      },
      "execution_count": null,
      "outputs": []
    },
    {
      "cell_type": "code",
      "source": [
        "# !pip install llama_index\n",
        "# !pip install llama-index-embeddings-huggingface\n",
        "# !pip install llama-index-llms-huggingface\n",
        "\n",
        "from llama_index.core import SimpleDirectoryReader\n",
        "from llama_index.embeddings.huggingface import HuggingFaceEmbedding\n",
        "from llama_index.core import VectorStoreIndex"
      ],
      "metadata": {
        "id": "7bGVGjEUCVyh"
      },
      "execution_count": null,
      "outputs": []
    },
    {
      "cell_type": "code",
      "source": [
        "from langchain_openai import ChatOpenAI\n",
        "from dotenv import load_dotenv\n",
        "import os\n",
        "load_dotenv(\"api_key.env\")"
      ],
      "metadata": {
        "colab": {
          "base_uri": "https://localhost:8080/"
        },
        "id": "D6L6xS1mtQVy",
        "outputId": "c8f7e154-3733-4451-8afd-107b68607e48"
      },
      "execution_count": 16,
      "outputs": [
        {
          "output_type": "execute_result",
          "data": {
            "text/plain": [
              "True"
            ]
          },
          "metadata": {},
          "execution_count": 16
        }
      ]
    },
    {
      "cell_type": "code",
      "source": [
        "loader = SimpleDirectoryReader(\n",
        "    input_dir=\".\",\n",
        "    recursive=True,\n",
        "    required_exts=[\".pdf\"],\n",
        ")\n",
        "\n",
        "# Load the documents\n",
        "documents = loader.load_data()\n",
        "documents"
      ],
      "metadata": {
        "id": "7NbaMcWLK9BS"
      },
      "execution_count": null,
      "outputs": []
    },
    {
      "cell_type": "code",
      "source": [
        "embedding_model = HuggingFaceEmbedding(model_name=\"BAAI/bge-small-en-v1.5\")\n",
        "\n",
        "print(embedding_model._model.device)  # Device that the model is running on"
      ],
      "metadata": {
        "colab": {
          "base_uri": "https://localhost:8080/"
        },
        "id": "eOFzmtkgugig",
        "outputId": "2710d508-19f6-45c1-b760-b2d796dfe0dc"
      },
      "execution_count": 20,
      "outputs": [
        {
          "output_type": "stream",
          "name": "stdout",
          "text": [
            "cpu\n"
          ]
        }
      ]
    },
    {
      "cell_type": "code",
      "source": [
        "# Creates embeddings for the sentences and stores them\n",
        "index = VectorStoreIndex.from_documents(\n",
        "    documents,\n",
        "    embed_model=embedding_model,\n",
        ")\n",
        "\n",
        "# Save the index in the current directory\n",
        "index.storage_context.persist(persist_dir=\"./huggingfaceembeddings\")\n"
      ],
      "metadata": {
        "id": "SPkCJSqNsukH"
      },
      "execution_count": 22,
      "outputs": []
    },
    {
      "cell_type": "code",
      "source": [
        "from llama_index.core import StorageContext, load_index_from_storage\n",
        "from llama_index.embeddings.huggingface import HuggingFaceEmbedding\n",
        "\n",
        "embedding_model = HuggingFaceEmbedding(model_name=\"BAAI/bge-small-en-v1.5\")\n",
        "storage_context = StorageContext.from_defaults(persist_dir=\"./huggingfaceembeddings\")\n",
        "index = load_index_from_storage(storage_context, embed_model=embedding_model)"
      ],
      "metadata": {
        "id": "D7sTSV8qtCuX"
      },
      "execution_count": 23,
      "outputs": []
    },
    {
      "cell_type": "code",
      "source": [
        "# Viewing the chunks\n",
        "for doc in index.docstore.docs.values():\n",
        "    print(\"Document ID:\", doc.ref_doc_id)\n",
        "    print(\"Text Chunk:\", doc.text)\n",
        "    print(\"=\" * 50)\n"
      ],
      "metadata": {
        "colab": {
          "base_uri": "https://localhost:8080/"
        },
        "id": "5zLGn9O3syC5",
        "outputId": "3a54328f-281f-4030-98a1-e2221ba1d567"
      },
      "execution_count": 24,
      "outputs": [
        {
          "output_type": "stream",
          "name": "stdout",
          "text": [
            "Document ID: 35948430-ebd2-40f7-94ee-00d761265658\n",
            "Text Chunk: Shraddha Piparia Computational Biologist, Richland, WA | +1-940-297-9424 | spiparia@health.ucsd.edu Professional Experience Postdoctoral Research Associate | 2021-Present | University of California, San Diego  • Conducted research on asthma pharmacogenetics and computational epidemiology, integrating genomic sequencing data with clinical phenotypes • Developed statistical models and machine learning pipelines to identify genetic determinants in respiratory diseases • Collaborated with multidisciplinary teams in a remote setting, contributing to high-impact publications Application Developer | 2013-2016 | Oracle India Private Limited | Telangana, India • Developed enterprise-level applications and ML-based sentiment analysis tools • Enhanced software testing processes through automated test case generation Technical Skills Programming: R, Python, C, SQL, MySQL, PostgreSQL, git/GitHub, docker, AWS ML Framework: scikit-learn, spark, TensorFlow/Keras, MXNet, pandas, NumPy AWS: Apache spark, EMR, SageMaker Bioinformatics & ML: PLINK, VCFtools, TF-IDF, NLP, One hot encoding, Principle Component Analysis, dataset assembly, exploratory analysis, data QC, disease modeling, Naive Bayes, regression models, automated workflows, high-throughput processing, endotypes, k-means/hierarchical clustering, ANOVA Genomics & Statistical Genetics: GWAS, rare variant analysis, statistical fine-mapping, genotype pattern mining, linkage disequilibrium, polygenic risk scores, functional annotation, genotype QC, pleiotropy analysis, Mendelian randomization Statistical Analysis: Regression (linear/mixed models), multivariate analysis, gene-environment interactions, power estimation, longitudinal/survival analysis (Cox, Kaplan-Meier), epidemiological study design Specialized Knowledge: pharmacogenetics and computational epidemiology Education\n",
            "==================================================\n",
            "Document ID: 6e8bdbc3-aa51-4e32-88ea-ecb4e06ad4e2\n",
            "Text Chunk: PhD in Computer Science | University of North Texas | 2016-2021  MTech, Software Engineering | NIT Rourkela | 2011-2013 B.E., Computer Science | CSVTU | 2007-2011 Selected Publications 1. Piparia, S. et al. Enhancing Asthma Pharmacogenetics Through Subtype-Specific Associations. CEA, 2025 2. Piparia, S. et al. Using machine learning to improve our understanding of COVID-19 infection in children. PLoS ONE, 2023 3. Piparia, S. et al. MicroRNA-584-5p as a Key Modulator of Inhaled Corticosteroid Resistance in Asthma. In Progress\n",
            "==================================================\n"
          ]
        }
      ]
    },
    {
      "cell_type": "code",
      "source": [
        "os.environ[\"OPENAI_API_KEY\"] = os.getenv(\"api_key\")\n",
        "\n",
        "openai_llm = ChatOpenAI(temperature=0.7, model_name=\"gpt-4o-mini\")\n",
        "\n",
        "query_engine = index.as_query_engine(llm=openai_llm)"
      ],
      "metadata": {
        "id": "Y31CszottJ_2"
      },
      "execution_count": 25,
      "outputs": []
    },
    {
      "cell_type": "code",
      "source": [
        "while True:\n",
        "    question = input(\"Question: \")\n",
        "    if question.lower() == \"quit\":\n",
        "        break\n",
        "    print(query_engine.query(question).response)\n"
      ],
      "metadata": {
        "colab": {
          "base_uri": "https://localhost:8080/"
        },
        "id": "xGlEuAAatJUk",
        "outputId": "8619765e-0345-480e-f5c8-424a8a44ffe3"
      },
      "execution_count": 27,
      "outputs": [
        {
          "name": "stdout",
          "output_type": "stream",
          "text": [
            "Question: what is the document about?\n",
            "The document is a resume belonging to Shraddha Piparia, a computational biologist based in Richland, WA. It outlines her educational background, including a PhD in Computer Science and other degrees, as well as her professional experience in research and application development. The resume highlights her current role as a postdoctoral research associate focused on asthma pharmacogenetics and computational epidemiology, her previous experience at Oracle India, and her technical skills in programming, machine learning, bioinformatics, and statistical analysis. Additionally, it lists selected publications related to her research work.\n",
            "Question: summarize\n",
            "Shraddha Piparia is a computational biologist based in Richland, WA, currently serving as a Postdoctoral Research Associate at the University of California, San Diego since 2021. She holds a PhD in Computer Science from the University of North Texas, an MTech in Software Engineering from NIT Rourkela, and a B.E. in Computer Science from CSVTU. Her research focuses on asthma pharmacogenetics and computational epidemiology, utilizing genomic data and machine learning to uncover genetic factors in respiratory diseases. She has experience as an Application Developer at Oracle India, where she worked on enterprise applications and machine learning tools. Piparia is proficient in various programming languages and tools, has contributed to high-impact publications, and possesses specialized knowledge in pharmacogenetics and computational epidemiology.\n",
            "Question: what is missing in her profile for a computational biologist position?\n",
            "Her profile is strong, but it may benefit from additional details such as specific examples of successful projects or outcomes from her research. Including more information about her experience with bioinformatics tools or databases, as well as any collaborative projects that highlight her ability to work in team settings, could enhance her profile. Furthermore, showcasing any relevant certifications or additional training in computational biology or related fields would be advantageous. Networking or involvement in professional organizations related to computational biology might also strengthen her candidacy.\n",
            "Question: what could be specific examples of her projects?\n",
            "Specific examples of projects include research on asthma pharmacogenetics that integrates genomic sequencing data with clinical phenotypes, the development of statistical models and machine learning pipelines aimed at identifying genetic determinants in respiratory diseases, and a study using machine learning to improve understanding of COVID-19 infection in children. Additionally, there is ongoing work related to the role of MicroRNA-584-5p in inhaled corticosteroid resistance in asthma.\n",
            "Question: what kind of information can be added?\n",
            "To enhance the provided information, consider adding the following types of details:\n",
            "\n",
            "1. **Professional Summary**: A brief overview highlighting key expertise and career goals.\n",
            "2. **Awards and Honors**: Recognition received during academic or professional career.\n",
            "3. **Certifications**: Relevant certifications in computational biology, machine learning, or related fields.\n",
            "4. **Projects**: Specific projects undertaken that demonstrate skills and contributions, especially in practical applications.\n",
            "5. **Conferences and Workshops**: Participation or presentations at relevant conferences to showcase engagement with the academic community.\n",
            "6. **Professional Affiliations**: Membership in relevant organizations or societies in the field of computational biology or software engineering.\n",
            "7. **Soft Skills**: Highlighting interpersonal skills, leadership experience, or teamwork capabilities that complement technical expertise.\n",
            "8. **Future Research Interests**: Areas of potential future research or professional development goals.\n",
            "9. **References**: Contact information for professional references who can vouch for qualifications and experiences.\n",
            "Question: quit\n"
          ]
        }
      ]
    }
  ]
}
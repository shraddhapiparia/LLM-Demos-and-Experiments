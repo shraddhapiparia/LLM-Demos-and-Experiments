{
  "nbformat": 4,
  "nbformat_minor": 0,
  "metadata": {
    "colab": {
      "provenance": []
    },
    "kernelspec": {
      "name": "python3",
      "display_name": "Python 3"
    },
    "language_info": {
      "name": "python"
    }
  },
  "cells": [
    {
      "cell_type": "markdown",
      "source": [
        "# RAG using LlamaIndex and OPENAI"
      ],
      "metadata": {
        "id": "jp5Nbehdlx9W"
      }
    },
    {
      "cell_type": "code",
      "source": [
        "# Install any necessary libraries\n",
        "# !pip install langchain_community\n",
        "# !pip install langchain_openai\n",
        "# !pip install llama-index-llms-langchain\n",
        "# !pip install python-dotenv\n",
        "# !pip install llama_index\n",
        "# !pip install llama-index-embeddings-huggingface\n",
        "# !pip install llama-index-llms-huggingface"
      ],
      "metadata": {
        "id": "a7rLTE-btNkg"
      },
      "execution_count": null,
      "outputs": []
    },
    {
      "cell_type": "code",
      "source": [
        "# Load required libraries\n",
        "from llama_index.core import SimpleDirectoryReader\n",
        "from llama_index.embeddings.huggingface import HuggingFaceEmbedding\n",
        "from llama_index.core import VectorStoreIndex\n",
        "from langchain_openai import ChatOpenAI\n",
        "from dotenv import load_dotenv\n",
        "import os\n",
        "# Load OPENAI key\n",
        "load_dotenv(\"api_key.env\")"
      ],
      "metadata": {
        "colab": {
          "base_uri": "https://localhost:8080/"
        },
        "id": "D6L6xS1mtQVy",
        "outputId": "90910d7c-50f9-4720-a9b4-3793e31df8e1"
      },
      "execution_count": 2,
      "outputs": [
        {
          "output_type": "execute_result",
          "data": {
            "text/plain": [
              "True"
            ]
          },
          "metadata": {},
          "execution_count": 2
        }
      ]
    },
    {
      "cell_type": "code",
      "source": [
        "# To read the pdfs in current folder\n",
        "loader = SimpleDirectoryReader(\n",
        "    input_dir=\".\",\n",
        "    recursive=True,\n",
        "    required_exts=[\".pdf\"],\n",
        ")\n",
        "\n",
        "# Load the documents\n",
        "documents = loader.load_data()\n",
        "documents"
      ],
      "metadata": {
        "id": "7NbaMcWLK9BS",
        "colab": {
          "base_uri": "https://localhost:8080/"
        },
        "outputId": "2ae40be1-951c-49c3-eede-69aa8ba403a3"
      },
      "execution_count": 3,
      "outputs": [
        {
          "output_type": "stream",
          "name": "stderr",
          "text": [
            "WARNING:pypdf._reader:Ignoring wrong pointing object 6 0 (offset 0)\n",
            "WARNING:pypdf._reader:Ignoring wrong pointing object 8 0 (offset 0)\n",
            "WARNING:pypdf._reader:Ignoring wrong pointing object 10 0 (offset 0)\n",
            "WARNING:pypdf._reader:Ignoring wrong pointing object 12 0 (offset 0)\n",
            "WARNING:pypdf._reader:Ignoring wrong pointing object 15 0 (offset 0)\n",
            "WARNING:pypdf._reader:Ignoring wrong pointing object 17 0 (offset 0)\n",
            "WARNING:pypdf._reader:Ignoring wrong pointing object 19 0 (offset 0)\n"
          ]
        },
        {
          "output_type": "execute_result",
          "data": {
            "text/plain": [
              "[Document(id_='d03bac36-9967-4311-9bef-709d00c3c237', embedding=None, metadata={'page_label': '1', 'file_name': 'Data Scientist, NLP and LLM.pdf', 'file_path': '/content/Data Scientist, NLP and LLM.pdf', 'file_type': 'application/pdf', 'file_size': 112541, 'creation_date': '2025-03-11', 'last_modified_date': '2025-03-11'}, excluded_embed_metadata_keys=['file_name', 'file_type', 'file_size', 'creation_date', 'last_modified_date', 'last_accessed_date'], excluded_llm_metadata_keys=['file_name', 'file_type', 'file_size', 'creation_date', 'last_modified_date', 'last_accessed_date'], relationships={}, metadata_template='{key}: {value}', metadata_separator='\\n', text_resource=MediaResource(embeddings=None, data=None, text='Shraddha Piparia, Ph.D. Computational Biologist, Richland, WA | 940-297-9424 | spiparia@health.ucsd.edu Professional Experience Postdoctoral Research Associate | 2021-Present | University of California, San Diego  • Developed a robust ML pipeline combining pediatric chest radiograph impressions for COVID-19 diagnosis (F1=0.79, Accuracy=80.65%), identified key radiological predictors using explainability methods (SHAP, GINI), and validated variant-specific performance.  • Led pharmacogenetic analyses linking two SNPs (rs3127412, rs37972) with ICS response in high-eosinophil asthmatics, demonstrating significantly enhanced lung function improvements (>12% FEV1, AUC=0.72 vs. 0.54 in low eosinophils) and underscoring the value of personalized medicine for targeted asthma management. Application Developer | 2013-2016 | Oracle India Private Limited | Telangana, India • Developed a sentiment classification model that analyzed tasks, deadlines, and bug backlogs to predict project success or failure with 73% accuracy, enabling proactive risk management. • Developed enterprise-grade applications while improving testing workflows with automated test case generation. Technical Skills Programming & Databases: R, Python, C, SQL, MySQL, Linux, PostgreSQL Bioinformatics, ML & NLP: PLINK, VCFtools, TF-IDF, spaCy, NLP, NLTK, EMR, scikit-learn, spark, pandas, NumPy, TensorFlow/Keras, NegEx, Deep Learning, Random Forest, NER, summarization, translation, sentiment analysis, RAG, HuggingFace, LLM Genomics & Statistical Genetics: GWAS, rare variant analysis, statistical fine-mapping, genotype pattern mining, linkage disequilibrium, polygenic risk scores, functional annotation, genotype QC, pleiotropy analysis, mendelian randomization, regression (linear/mixed models), multivariate analysis, gene-environment interactions, power estimation, longitudinal/survival analysis (Cox, Kaplan-Meier), epidemiological study design, ICD-10, SNOMED CT Specialized Knowledge: pharmacogenetics and computational epidemiology Education Ph.D., Computer Science | University of North Texas, 2021  M.Tech., Software Engineering | NIT Rourkela, India 2013 B.E., Computer Science | India, 2011 Select Publications 1. Piparia, S. et al. Enhancing Asthma Pharmacogenetics Through Subtype-Specific Associations. CEA, 2025 2. Piparia, S. et al. Using machine learning to improve our understanding of COVID-19 infection in children. PLoS ONE, 2023 3. Piparia, S. et al. Pharmacogenetics of childhood uncontrolled asthma, Expert Review of Clinical Immunology, 2023 4. Piparia, S. et al. MicroRNA-584-5p as a Key Modulator of Inhaled Corticosteroid Resistance in Asthma. Pending functional testing ', path=None, url=None, mimetype=None), image_resource=None, audio_resource=None, video_resource=None, text_template='{metadata_str}\\n\\n{content}')]"
            ]
          },
          "metadata": {},
          "execution_count": 3
        }
      ]
    },
    {
      "cell_type": "code",
      "source": [
        "# Load (or create) the embedding model for vector storage\n",
        "# \"BAAI/bge-small-en-v1.5\" is a small English embedding model that encodes text into a vector space for similarity-based retrieval.\n",
        "embedding_model = HuggingFaceEmbedding(model_name=\"BAAI/bge-small-en-v1.5\")\n",
        "\n",
        "print(embedding_model._model.device)  # Device that the model is running on"
      ],
      "metadata": {
        "id": "eOFzmtkgugig"
      },
      "execution_count": null,
      "outputs": []
    },
    {
      "cell_type": "code",
      "source": [
        "# Creates embeddings for the sentences and stores them\n",
        "index = VectorStoreIndex.from_documents(\n",
        "    documents,\n",
        "    embed_model=embedding_model,\n",
        ")\n",
        "\n",
        "# Save the index in the current directory\n",
        "index.storage_context.persist(persist_dir=\"./huggingfaceembeddings\")\n"
      ],
      "metadata": {
        "id": "SPkCJSqNsukH"
      },
      "execution_count": 5,
      "outputs": []
    },
    {
      "cell_type": "code",
      "source": [
        "# 1. EMBEDDING MODEL & INDEX PERSISTENCE\n",
        "from llama_index.core import StorageContext, load_index_from_storage\n",
        "from llama_index.embeddings.huggingface import HuggingFaceEmbedding\n",
        "\n",
        "# Load the existing index from a persisted folder\n",
        "storage_context = StorageContext.from_defaults(persist_dir=\"./huggingfaceembeddings\")\n",
        "index = load_index_from_storage(storage_context, embed_model=embedding_model)"
      ],
      "metadata": {
        "id": "D7sTSV8qtCuX"
      },
      "execution_count": 6,
      "outputs": []
    },
    {
      "cell_type": "code",
      "source": [
        "# Viewing the chunks\n",
        "for doc in index.docstore.docs.values():\n",
        "    print(\"Document ID:\", doc.ref_doc_id)\n",
        "    print(\"Text Chunk:\", doc.text)\n",
        "    print(\"=\" * 50)\n"
      ],
      "metadata": {
        "colab": {
          "base_uri": "https://localhost:8080/"
        },
        "id": "5zLGn9O3syC5",
        "outputId": "404479c7-690c-436a-d909-bd2f460c088e"
      },
      "execution_count": 7,
      "outputs": [
        {
          "output_type": "stream",
          "name": "stdout",
          "text": [
            "Document ID: d03bac36-9967-4311-9bef-709d00c3c237\n",
            "Text Chunk: Shraddha Piparia, Ph.D. Computational Biologist, Richland, WA | 940-297-9424 | spiparia@health.ucsd.edu Professional Experience Postdoctoral Research Associate | 2021-Present | University of California, San Diego  • Developed a robust ML pipeline combining pediatric chest radiograph impressions for COVID-19 diagnosis (F1=0.79, Accuracy=80.65%), identified key radiological predictors using explainability methods (SHAP, GINI), and validated variant-specific performance.  • Led pharmacogenetic analyses linking two SNPs (rs3127412, rs37972) with ICS response in high-eosinophil asthmatics, demonstrating significantly enhanced lung function improvements (>12% FEV1, AUC=0.72 vs. 0.54 in low eosinophils) and underscoring the value of personalized medicine for targeted asthma management. Application Developer | 2013-2016 | Oracle India Private Limited | Telangana, India • Developed a sentiment classification model that analyzed tasks, deadlines, and bug backlogs to predict project success or failure with 73% accuracy, enabling proactive risk management. • Developed enterprise-grade applications while improving testing workflows with automated test case generation. Technical Skills Programming & Databases: R, Python, C, SQL, MySQL, Linux, PostgreSQL Bioinformatics, ML & NLP: PLINK, VCFtools, TF-IDF, spaCy, NLP, NLTK, EMR, scikit-learn, spark, pandas, NumPy, TensorFlow/Keras, NegEx, Deep Learning, Random Forest, NER, summarization, translation, sentiment analysis, RAG, HuggingFace, LLM Genomics & Statistical Genetics: GWAS, rare variant analysis, statistical fine-mapping, genotype pattern mining, linkage disequilibrium, polygenic risk scores, functional annotation, genotype QC, pleiotropy analysis, mendelian randomization, regression (linear/mixed models), multivariate analysis, gene-environment interactions, power estimation, longitudinal/survival analysis (Cox, Kaplan-Meier), epidemiological study design, ICD-10, SNOMED CT Specialized Knowledge: pharmacogenetics and computational epidemiology Education Ph.D., Computer Science | University of North Texas, 2021  M.Tech., Software Engineering | NIT Rourkela, India 2013 B.E., Computer Science | India, 2011 Select Publications 1. Piparia, S. et al. Enhancing Asthma Pharmacogenetics Through Subtype-Specific Associations. CEA, 2025 2. Piparia, S. et al. Using machine learning to improve our understanding of COVID-19 infection in children. PLoS ONE, 2023 3. Piparia, S. et al. Pharmacogenetics of childhood uncontrolled asthma, Expert Review of Clinical Immunology, 2023 4. Piparia, S. et al. MicroRNA-584-5p as a Key Modulator of Inhaled Corticosteroid Resistance in Asthma. Pending functional testing\n",
            "==================================================\n"
          ]
        }
      ]
    },
    {
      "cell_type": "code",
      "source": [
        "os.environ[\"OPENAI_API_KEY\"] = os.getenv(\"api_key\")\n",
        "\n",
        "# 2. LOADING THE OPENAI LLM\n",
        "openai_llm = ChatOpenAI(temperature=0.7, model_name=\"gpt-4o-mini\")\n",
        "\n",
        "# 3. BUILD A QUERY ENGINE FOR RAG\n",
        "# RAG (Retrieval-Augmented Generation) means the query engine will first retrieve relevant text chunks\n",
        "# from the index, then feed them to the openAI LLM to produce a context-aware answer.\n",
        "query_engine = index.as_query_engine(llm=openai_llm)"
      ],
      "metadata": {
        "id": "Y31CszottJ_2"
      },
      "execution_count": 8,
      "outputs": []
    },
    {
      "cell_type": "code",
      "source": [
        "# Set the LLM to use\n",
        "while True:\n",
        "    question = input(\"Question: \")\n",
        "    if question.lower() == \"quit\":\n",
        "        break\n",
        "    print(query_engine.query(question).response)"
      ],
      "metadata": {
        "colab": {
          "base_uri": "https://localhost:8080/"
        },
        "id": "xGlEuAAatJUk",
        "outputId": "102caea9-8988-4185-efd2-9b407b49ccd9"
      },
      "execution_count": 9,
      "outputs": [
        {
          "name": "stdout",
          "output_type": "stream",
          "text": [
            "Question: whats the document about?\n",
            "The document provides a detailed overview of Shraddha Piparia's professional background, highlighting her experience, technical skills, education, and select publications. It outlines her current role as a Postdoctoral Research Associate at the University of California, San Diego, where she focuses on machine learning applications in healthcare, particularly related to COVID-19 diagnosis and pharmacogenetic analyses in asthma. Additionally, it describes her previous experience as an Application Developer at Oracle India, where she worked on sentiment classification models and enterprise applications. The document also lists her educational qualifications, including a Ph.D. in Computer Science, and presents a selection of her published research in related fields.\n",
            "Question: summarize the expertise\n",
            "The expertise includes computational biology with a focus on machine learning and natural language processing. Key accomplishments involve developing ML pipelines for COVID-19 diagnosis and conducting pharmacogenetic analyses related to asthma treatment. Proficient in programming languages such as R and Python, as well as various bioinformatics and statistical genetics techniques. Holds a Ph.D. in Computer Science and has published research on asthma pharmacogenetics and COVID-19.\n",
            "Question: List accomplishments\n",
            "1. Developed a robust machine learning pipeline for COVID-19 diagnosis from pediatric chest radiographs, achieving an F1 score of 0.79 and accuracy of 80.65%. Identified key radiological predictors using explainability methods and validated variant-specific performance.\n",
            "\n",
            "2. Led pharmacogenetic analyses linking specific SNPs with improved lung function in high-eosinophil asthmatics, demonstrating significant enhancements in lung function and highlighting the importance of personalized medicine in asthma management.\n",
            "\n",
            "3. Developed a sentiment classification model that predicted project success or failure with 73% accuracy, facilitating proactive risk management in project management.\n",
            "\n",
            "4. Authored multiple publications, including research on asthma pharmacogenetics, machine learning applications in understanding COVID-19 in children, and the role of microRNA in corticosteroid resistance in asthma.\n",
            "Question: quit\n"
          ]
        }
      ]
    }
  ]
}